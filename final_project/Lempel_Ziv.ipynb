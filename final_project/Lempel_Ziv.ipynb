{
  "nbformat": 4,
  "nbformat_minor": 0,
  "metadata": {
    "colab": {
      "provenance": []
    },
    "kernelspec": {
      "name": "python3",
      "display_name": "Python 3"
    },
    "language_info": {
      "name": "python"
    }
  },
  "cells": [
    {
      "cell_type": "markdown",
      "source": [
        "# Lempel-Ziv complexity for the Simons game\n",
        "\n",
        "### **Author:** Quilee Simeon (qsimeon@mit.edu)\n",
        "\n",
        "The Lempel–Ziv complexity is the number of **different sub-strings (or sub-words) encountered as the binary sequence is viewed as a stream (from left to right)**.\n",
        "\n",
        "Could **this** be a definition of what a *chunk* is?\n",
        "\n",
        "The core algorithm, which involves searching for unique substrings and updating indices accordingly, remains the same regardless of the alphabet size of the sequence.\n",
        "\n",
        "For sequences derived from an alphabet larger than binary, you simply ensure that the sequence you input into the function is in a form where each symbol is distinct and treated as such by the algorithm. No conversion to a binary format is necessary, as the algorithm does not rely on the nature of the symbols but rather on the structure and repetition of patterns."
      ],
      "metadata": {
        "id": "BRdyuOb2iHKC"
      }
    },
    {
      "cell_type": "code",
      "source": [
        "def lempel_ziv_complexity(sequence):\n",
        "    i, l = 0, 1\n",
        "    s = 0  # complexity\n",
        "    sub_strings = set()\n",
        "\n",
        "    while i + l <= len(sequence):\n",
        "        w = sequence[i:i+l]\n",
        "        if w not in sub_strings:\n",
        "            sub_strings.add(w)\n",
        "            i = i + l\n",
        "            l = 1\n",
        "            s += 1\n",
        "        else:\n",
        "            l += 1\n",
        "\n",
        "    return s\n",
        "\n",
        "# Example usage:\n",
        "sequence = \"BRRBRBRBB\" # binary\n",
        "lz_complexity = lempel_ziv_complexity(sequence)\n",
        "print(f\"The Lempel-Ziv complexity of the sequence {sequence} is: {lz_complexity}\")\n",
        "\n",
        "# Example usage:\n",
        "sequence = \"YBGGRRGBBYY\" # quarternary\n",
        "lz_complexity = lempel_ziv_complexity(sequence)\n",
        "print(f\"The Lempel-Ziv complexity of the sequence {sequence} is: {lz_complexity}\")\n"
      ],
      "metadata": {
        "colab": {
          "base_uri": "https://localhost:8080/"
        },
        "id": "r-_oUlqehHJc",
        "outputId": "89d5fabf-36a5-4af8-e70e-750258aecca9"
      },
      "execution_count": 1,
      "outputs": [
        {
          "output_type": "stream",
          "name": "stdout",
          "text": [
            "The Lempel-Ziv complexity of the sequence BRRBRBRBB is: 5\n",
            "The Lempel-Ziv complexity of the sequence YBGGRRGBBYY is: 7\n"
          ]
        }
      ]
    }
  ]
}