{
 "cells": [
  {
   "cell_type": "markdown",
   "metadata": {},
   "source": [
    "## A coding scheme for Simon game sequences\n",
    "\n",
    "### **Author:** Sol Markman (smarkman@mit.edu)\n",
    "\n",
    "#### Types of chunks/compression and their sizes:\n",
    "\n",
    "#### 1) Repeats\n",
    "Size = (size of subsequence) + 1. This assumes that size does not increase with the number of repeats, and \n",
    "repeats are only beneficial for size>2.\n",
    "\n",
    "a) Single color repeats\n",
    "- RRRR is compressed to [R]^4, size=2\n",
    "\n",
    "b) Multicolor repeats\n",
    "- RGRGRG is compressed to [RG]^3, size=3\n",
    "    \n",
    "c) Nested repeats\n",
    "- RRRGGGRRRGGG is compressed to [[R]^3[G]^3]^2, size=5\n",
    "\n",
    "#### 2) Alternations\n",
    "\n",
    "#### 3) Cycles\n",
    "\n",
    "#### MAYBE: 4) Exposure compression\n",
    "\n"
   ]
  },
  {
   "cell_type": "code",
   "execution_count": 51,
   "metadata": {},
   "outputs": [
    {
     "name": "stdout",
     "output_type": "stream",
     "text": [
      "BBBBBBBrrrBBBBBB\n",
      "6\n",
      "6\n"
     ]
    }
   ],
   "source": [
    "# 1a) ONLY: Chunking only repeats of a single color\n",
    "\n",
    "test_sequences = ['BBBRRRYYYGGG', 'RRRZGZRRR', 'BBBBGRY', 'RRRYGYGYG', 'GBGBB', 'BBBBBBBrrrBBBBBB']\n",
    "answers = [8, 7, 5, 8, 5, 6]\n",
    "\n",
    "s_idx = 5\n",
    "sequence = test_sequences[s_idx]\n",
    "answer = answers[s_idx]\n",
    "print(sequence)\n",
    "print(answer)\n",
    "\n",
    "num_rep = 1\n",
    "size = 1\n",
    "i = 0\n",
    "l = 1\n",
    "while(i+l < len(sequence)):\n",
    "    if sequence[i+l] == sequence[i+l-1]:\n",
    "        num_rep += 1 # increase length of repeat chunk\n",
    "        l += 1\n",
    "        #print('equal', i, l, num_rep, size)\n",
    "        #print(sequence[:i+l])\n",
    "        if i+l == len(sequence):\n",
    "            size += 1\n",
    "    else:\n",
    "        if num_rep > 2:\n",
    "            size += 2\n",
    "            i += num_rep \n",
    "            l, num_rep = 1, 1 # reset\n",
    "            #print('end rep', i, l, num_rep, size)\n",
    "            #print(sequence[:i+l])\n",
    "        else:\n",
    "            size += 1\n",
    "            i += 1\n",
    "            l, num_rep = 1, 1 # reset\n",
    "            #print('no rep', i, l, num_rep, size)\n",
    "            #print(sequence[:i+l])\n",
    "\n",
    "print(size)"
   ]
  },
  {
   "cell_type": "code",
   "execution_count": 5,
   "metadata": {},
   "outputs": [
    {
     "name": "stdout",
     "output_type": "stream",
     "text": [
      "4\n"
     ]
    }
   ],
   "source": [
    "# TODO: 1a) + 1b) Chunking repeats of any number of colors\n",
    "\n",
    "test_sequences = ['BBBRRRYYYGGG', 'RRRZGZRRR', 'BBBBGRY', 'RRRYGYGYG', 'GBGBB', 'BBBBBBBrrrBBBBBB']\n",
    "answers = [8, 7, 5, 8, 5, 6]\n",
    "\n",
    "s_idx = 5\n",
    "sequence = test_sequences[s_idx]\n",
    "answer = answers[s_idx]\n",
    "print(sequence)\n",
    "print(answer)\n",
    "\n",
    "num_rep = 1\n",
    "size = 1\n",
    "i = 0\n",
    "l = 1\n",
    "while(i+l < len(sequence)):\n",
    "    if sequence[i+l] == sequence[i+l-1]:\n",
    "        num_rep += 1 # increase length of repeat chunk\n",
    "        l += 1\n",
    "        #print('equal', i, l, num_rep, size)\n",
    "        #print(sequence[:i+l])\n",
    "        if i+l == len(sequence):\n",
    "            size += 1\n",
    "    else:\n",
    "        if num_rep > 2:\n",
    "            size += 2\n",
    "            i += num_rep \n",
    "            l, num_rep = 1, 1 # reset\n",
    "            #print('end rep', i, l, num_rep, size)\n",
    "            #print(sequence[:i+l])\n",
    "        else:\n",
    "            size += 1\n",
    "            i += 1\n",
    "            l, num_rep = 1, 1 # reset\n",
    "            #print('no rep', i, l, num_rep, size)\n",
    "            #print(sequence[:i+l])\n",
    "\n",
    "print(size)"
   ]
  }
 ],
 "metadata": {
  "kernelspec": {
   "display_name": "base",
   "language": "python",
   "name": "python3"
  },
  "language_info": {
   "codemirror_mode": {
    "name": "ipython",
    "version": 3
   },
   "file_extension": ".py",
   "mimetype": "text/x-python",
   "name": "python",
   "nbconvert_exporter": "python",
   "pygments_lexer": "ipython3",
   "version": "3.9.16"
  }
 },
 "nbformat": 4,
 "nbformat_minor": 2
}
