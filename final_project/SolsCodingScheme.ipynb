{
 "cells": [
  {
   "cell_type": "markdown",
   "metadata": {},
   "source": [
    "## A coding scheme for Simon game sequences\n",
    "\n",
    "### **Author:** Sol Markman (smarkman@mit.edu)\n",
    "\n",
    "#### Assumption: This scheme is hierarchical, so that different chunk types take priority over others. For example, repeats of a single color are chunked first, then repeats of multiple colors, and then alternations are chunked with the remaining items.\n",
    "- RRRGRGRG is compressed to [R]^3 [GR]^2 [G], size=6\n",
    "- RRRGRG is compressed to [R]^3 [GRG], size=4\n",
    "\n",
    "#### Types of chunks/compression and their sizes:\n",
    "\n",
    "#### 1) Repeats\n",
    "Size = (size of subsequence) + 1. This assumes that size does not increase with the number of repeats, and \n",
    "repeats are only beneficial for size>2.\n",
    "\n",
    "a) Single color repeats\n",
    "- RRRR is compressed to [R]^4, size=2\n",
    "\n",
    "b) Multicolor repeats\n",
    "- RGRGRG is compressed to [RG]^3, size=3\n",
    "    \n",
    "c) Nested repeats\n",
    "- RRRGGGRRRGGG is compressed to [ [R]^3 [G]^3 ]^2, size=5\n",
    "\n",
    "#### 2) Alternations\n",
    "\n",
    "#### 3) Cycles\n",
    "\n",
    "#### ADDITIONAL: 4) Exposure compression\n",
    "\n"
   ]
  },
  {
   "cell_type": "code",
   "execution_count": 107,
   "metadata": {},
   "outputs": [
    {
     "name": "stdout",
     "output_type": "stream",
     "text": [
      "BGGGR 4\n",
      "(4, ['B', '[G]^3', 'R'])\n"
     ]
    }
   ],
   "source": [
    "# 1a) ONLY: Chunking only repeats of a single color\n",
    "\n",
    "test_sequences = ['BBBRRRYYYGGG', 'RRRZGZRRR', 'BBBBGRY', 'RRRYGYGYG', 'GBGBB', \n",
    "                  'BBBBBBBrrrBBBBBB', 'GGGGGGGG', 'ABCD', 'BGGGR']\n",
    "answers = [8, 7, 5, 8, 5, 6, 2, 4, 4]\n",
    "\n",
    "s_idx = 8\n",
    "sequence = test_sequences[s_idx]\n",
    "print(sequence, answers[s_idx])\n",
    "\n",
    "def single_color_repeats(seq, return_chunked=False):\n",
    "    num_rep = 1\n",
    "    size = 1\n",
    "    i = 0\n",
    "    l = 1\n",
    "    chunked_seq = []\n",
    "    while(i+l < len(seq)):\n",
    "        if seq[i+l] == seq[i+l-1]:\n",
    "            num_rep += 1\n",
    "            l += 1\n",
    "            if i+l == len(seq):\n",
    "                size += 1\n",
    "                if num_rep > 2:\n",
    "                    chunked_seq.append(f'[{seq[i]}]^{num_rep}')\n",
    "                else:\n",
    "                    chunked_seq.append(seq[-2])\n",
    "                    chunked_seq.append(seq[-1])\n",
    "        else:\n",
    "            if num_rep > 2:\n",
    "                chunked_seq.append(f'[{seq[i]}]^{num_rep}')\n",
    "                size += 2\n",
    "                i += num_rep\n",
    "                l, num_rep = 1, 1\n",
    "            else:\n",
    "                chunked_seq.append(seq[i+l-1])\n",
    "                size += 1\n",
    "                i += 1\n",
    "                l, num_rep = 1, 1\n",
    "            if i+l == len(seq):\n",
    "                chunked_seq.append(seq[-1])\n",
    "\n",
    "    if return_chunked:\n",
    "        return size, chunked_seq\n",
    "    return size\n",
    "\n",
    "print(single_color_repeats(sequence, return_chunked=True))"
   ]
  },
  {
   "cell_type": "code",
   "execution_count": 108,
   "metadata": {},
   "outputs": [
    {
     "name": "stdout",
     "output_type": "stream",
     "text": [
      "GRGRGRZDZDZDZTTTTTTTGGG 11\n"
     ]
    }
   ],
   "source": [
    "# TODO: 1a) + 1b) Chunking repeats of any number of colors\n",
    "\n",
    "test_sequences = ['BBBRRRYYYGGG', 'RRRZGZRRR', 'BBBBGRY', 'RRRYGYGYG', 'GBGBB', \n",
    "                  'BBBBBBBrrrBBBBBB', 'GRGRGRZDZDZDZTTTTTTTGGG']\n",
    "answers = [8, 7, 5, 5, 4, 6, 11]\n",
    "\n",
    "s_idx = 6\n",
    "sequence = test_sequences[s_idx]\n",
    "print(sequence, answers[s_idx])\n",
    "\n"
   ]
  }
 ],
 "metadata": {
  "kernelspec": {
   "display_name": "base",
   "language": "python",
   "name": "python3"
  },
  "language_info": {
   "codemirror_mode": {
    "name": "ipython",
    "version": 3
   },
   "file_extension": ".py",
   "mimetype": "text/x-python",
   "name": "python",
   "nbconvert_exporter": "python",
   "pygments_lexer": "ipython3",
   "version": "3.9.16"
  }
 },
 "nbformat": 4,
 "nbformat_minor": 2
}
